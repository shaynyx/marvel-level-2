{
  "nbformat": 4,
  "nbformat_minor": 0,
  "metadata": {
    "colab": {
      "provenance": [],
      "authorship_tag": "ABX9TyOeSWBN9D4R3WsKzqIxDuLQ",
      "include_colab_link": true
    },
    "kernelspec": {
      "name": "python3",
      "display_name": "Python 3"
    },
    "language_info": {
      "name": "python"
    }
  },
  "cells": [
    {
      "cell_type": "markdown",
      "metadata": {
        "id": "view-in-github",
        "colab_type": "text"
      },
      "source": [
        "<a href=\"https://colab.research.google.com/github/shaynyx/marvel-level-2/blob/main/task_7_kmeans_clustering.ipynb\" target=\"_parent\"><img src=\"https://colab.research.google.com/assets/colab-badge.svg\" alt=\"Open In Colab\"/></a>"
      ]
    },
    {
      "cell_type": "markdown",
      "source": [
        "# K-Means Clustering for Image Classification\n",
        "\n",
        "A cluster refers to a collection of data points aggregated together because of certain similarities.\n",
        "\n",
        "You’ll define a target number k, which refers to the number of centroids you need in the dataset. A centroid is the imaginary or real location representing the center of the cluster.\n",
        "\n",
        "Every data point is allocated to each of the clusters through reducing the in-cluster sum of squares.\n",
        "\n",
        " The K-means algorithm identifies k number of centroids, and then allocates every data point to the nearest cluster, while keeping the centroids as small as possible.\n",
        "\n",
        "The ‘means’ in the K-means refers to averaging of the data; that is, finding the centroid."
      ],
      "metadata": {
        "id": "fFRg-qgAY1f6"
      }
    },
    {
      "cell_type": "markdown",
      "source": [
        "It halts creating and optimizing clusters when either:\n",
        "\n",
        "The centroids have stabilized — there is no change in their values because the clustering has been successful.\n",
        "The defined number of iterations has been achieved."
      ],
      "metadata": {
        "id": "1f4Z9FCmcnJN"
      }
    },
    {
      "cell_type": "code",
      "execution_count": 1,
      "metadata": {
        "colab": {
          "base_uri": "https://localhost:8080/"
        },
        "id": "mJfJk3JxXbcA",
        "outputId": "d7c916bc-4452-420a-f421-391ea4aca846"
      },
      "outputs": [
        {
          "output_type": "stream",
          "name": "stdout",
          "text": [
            "Downloading data from https://storage.googleapis.com/tensorflow/tf-keras-datasets/mnist.npz\n",
            "11490434/11490434 [==============================] - 0s 0us/step\n"
          ]
        }
      ],
      "source": [
        "from keras.datasets import mnist\n",
        "(x_train, y_train), (x_test, y_test) = mnist.load_data()"
      ]
    },
    {
      "cell_type": "code",
      "source": [
        "print(type(x_train))\n",
        "print(type(x_test))\n",
        "print(type(y_train))\n",
        "print(type(y_test))"
      ],
      "metadata": {
        "colab": {
          "base_uri": "https://localhost:8080/"
        },
        "id": "XlQf6l60edI4",
        "outputId": "8baa02fd-48d7-4f05-c8f0-58d7f4fe3adb"
      },
      "execution_count": 2,
      "outputs": [
        {
          "output_type": "stream",
          "name": "stdout",
          "text": [
            "<class 'numpy.ndarray'>\n",
            "<class 'numpy.ndarray'>\n",
            "<class 'numpy.ndarray'>\n",
            "<class 'numpy.ndarray'>\n"
          ]
        }
      ]
    },
    {
      "cell_type": "code",
      "source": [
        "print(x_train.shape)\n",
        "print(x_test.shape)\n",
        "print(y_train.shape)\n",
        "print(y_test.shape)"
      ],
      "metadata": {
        "colab": {
          "base_uri": "https://localhost:8080/"
        },
        "id": "CYshGGegej21",
        "outputId": "6690a9e4-bc62-4a3d-fa49-af810b9142a2"
      },
      "execution_count": 3,
      "outputs": [
        {
          "output_type": "stream",
          "name": "stdout",
          "text": [
            "(60000, 28, 28)\n",
            "(10000, 28, 28)\n",
            "(60000,)\n",
            "(10000,)\n"
          ]
        }
      ]
    },
    {
      "cell_type": "code",
      "source": [
        "import matplotlib.pyplot as plt\n",
        "\n",
        "plt.gray() # B/W Images\n",
        "plt.figure(figsize = (10,9))\n",
        "# Displaying a grid of 3x3 images\n",
        "for i in range(9):\n",
        " plt.subplot(3,3,i+1)\n",
        " plt.imshow(x_train[i])"
      ],
      "metadata": {
        "colab": {
          "base_uri": "https://localhost:8080/",
          "height": 772
        },
        "id": "gwqtwK6WepWI",
        "outputId": "ef9bf6f2-758c-4aa8-ff56-5499854a0902"
      },
      "execution_count": 8,
      "outputs": [
        {
          "output_type": "display_data",
          "data": {
            "text/plain": [
              "<Figure size 640x480 with 0 Axes>"
            ]
          },
          "metadata": {}
        },
        {
          "output_type": "display_data",
          "data": {
            "text/plain": [
              "<Figure size 1000x900 with 9 Axes>"
            ],
            "image/png": "[encoded data removed]"
          },
          "metadata": {}
        }
      ]
    },
    {
      "cell_type": "code",
      "source": [
        "for i in range(5):\n",
        "  print(y_train[i])"
      ],
      "metadata": {
        "colab": {
          "base_uri": "https://localhost:8080/"
        },
        "id": "L-DjTlydeyDW",
        "outputId": "4619b875-e4fa-4f39-e84c-9387a2711633"
      },
      "execution_count": 6,
      "outputs": [
        {
          "output_type": "stream",
          "name": "stdout",
          "text": [
            "5\n",
            "0\n",
            "4\n",
            "1\n",
            "9\n"
          ]
        }
      ]
    },
    {
      "cell_type": "code",
      "source": [
        "print(x_train.min())\n",
        "print(x_train.max())"
      ],
      "metadata": {
        "colab": {
          "base_uri": "https://localhost:8080/"
        },
        "id": "xMuVCKqBgE_y",
        "outputId": "cf900e20-b50a-4a27-a32d-4cf99b416ce0"
      },
      "execution_count": 9,
      "outputs": [
        {
          "output_type": "stream",
          "name": "stdout",
          "text": [
            "0\n",
            "255\n"
          ]
        }
      ]
    },
    {
      "cell_type": "markdown",
      "source": [
        "Since the dataset contains a range of values from **0 to 255**, the dataset has to be normalized. **Data Normalization** is an important preprocessing step which ensures that each input parameter (pixel, in this case) has a similar data distribution. This fastens the process of covergence while training the model. Also Normalization makes sure no one particular parameter influences the output significantly.\n",
        "\n",
        "Data normalization is done by subtracting the mean from each pixel and then dividing the result by the standard deviation. The distribution of such data would resemble a Gaussian curve centered at zero.\n",
        "\n",
        "For image inputs we need the pixel numbers to be positive. So the image input is divided by 255 so that input values are in range of [0,1]."
      ],
      "metadata": {
        "id": "GZldh5NhhJKH"
      }
    },
    {
      "cell_type": "code",
      "source": [
        "x_train = x_train.astype('float32')\n",
        "x_test = x_test.astype('float32')\n",
        "# Normalization\n",
        "x_train = x_train/255.0\n",
        "x_test = x_test/255.0"
      ],
      "metadata": {
        "id": "zteot6hHgspe"
      },
      "execution_count": 11,
      "outputs": []
    },
    {
      "cell_type": "code",
      "source": [
        "# The minimum and maximum values are 0 and 1 respectively. The input data is in range of [0,1].\n",
        "\n",
        "print(x_train.min())\n",
        "print(x_train.max())"
      ],
      "metadata": {
        "colab": {
          "base_uri": "https://localhost:8080/"
        },
        "id": "tUJ_jmLmhU2-",
        "outputId": "ca44c74b-d058-44ee-e208-bf33a8bc9220"
      },
      "execution_count": 12,
      "outputs": [
        {
          "output_type": "stream",
          "name": "stdout",
          "text": [
            "0.0\n",
            "1.0\n"
          ]
        }
      ]
    },
    {
      "cell_type": "code",
      "source": [
        "X_train = x_train.reshape(len(x_train),-1)\n",
        "X_test = x_test.reshape(len(x_test),-1)"
      ],
      "metadata": {
        "id": "n7nSk_iZhkcN"
      },
      "execution_count": 13,
      "outputs": []
    },
    {
      "cell_type": "markdown",
      "source": [
        "After reshaping, each row of the new 2D array represents a flattened version of an original image. The number of columns in the reshaped array is equal to the total number of pixels in each image (height * width). This is necessary for K-Means Clustering, as it treats each pixel as an independent feature during clustering."
      ],
      "metadata": {
        "id": "G-qIt28ojHYz"
      }
    },
    {
      "cell_type": "code",
      "source": [
        "print(X_train.shape)\n",
        "print(X_test.shape)"
      ],
      "metadata": {
        "colab": {
          "base_uri": "https://localhost:8080/"
        },
        "id": "1xL0LAbqhtXe",
        "outputId": "7313fcd4-bb22-4d7d-e8de-aed44b933d99"
      },
      "execution_count": 14,
      "outputs": [
        {
          "output_type": "stream",
          "name": "stdout",
          "text": [
            "(60000, 784)\n",
            "(10000, 784)\n"
          ]
        }
      ]
    },
    {
      "cell_type": "code",
      "source": [
        "import numpy as np\n",
        "from sklearn.cluster import MiniBatchKMeans\n",
        "total_clusters = len(np.unique(y_train))\n",
        "# Initialize the K-Means model\n",
        "kmeans = MiniBatchKMeans(n_clusters = total_clusters)\n",
        "# Fitting the model to training set\n",
        "kmeans.fit(X_train)\n",
        "print(total_clusters)"
      ],
      "metadata": {
        "colab": {
          "base_uri": "https://localhost:8080/"
        },
        "id": "p0hC1N-WjMgV",
        "outputId": "0786f248-3b08-4e2b-8201-93002f5ffdda"
      },
      "execution_count": 23,
      "outputs": [
        {
          "output_type": "stream",
          "name": "stderr",
          "text": [
            "/usr/local/lib/python3.10/dist-packages/sklearn/cluster/_kmeans.py:870: FutureWarning: The default value of `n_init` will change from 3 to 'auto' in 1.4. Set the value of `n_init` explicitly to suppress the warning\n",
            "  warnings.warn(\n"
          ]
        },
        {
          "output_type": "stream",
          "name": "stdout",
          "text": [
            "10\n"
          ]
        }
      ]
    },
    {
      "cell_type": "code",
      "source": [
        "def retrieve_info(cluster_labels, y_train):\n",
        "    # Initializing\n",
        "    reference_labels = {}\n",
        "\n",
        "    # For loop to run through each label of cluster label\n",
        "    for i in range(len(np.unique(kmeans.labels_))):\n",
        "        index = np.where(cluster_labels == i, 1, 0)\n",
        "        num = np.bincount(y_train[index == 1]).argmax()\n",
        "        reference_labels[i] = num\n",
        "\n",
        "    return reference_labels\n"
      ],
      "metadata": {
        "id": "6PTWP4A1kzex"
      },
      "execution_count": 18,
      "outputs": []
    },
    {
      "cell_type": "markdown",
      "source": [
        "kmeans.labels_: [0, 1, 1, 0, 2] (Cluster labels assigned by K-Means)\n",
        "\n",
        "\n",
        "reference_labels: {0: 3, 1: 8, 2: 5} (Mapping of cluster labels to most common true labels)\n",
        "\n",
        "\n",
        "After the loop, the number_labels array would be assigned true labels based on the cluster labels:\n",
        "\n",
        "For data point 0 with cluster label 0, number_labels[0] = reference_labels[0] = 3.\n",
        "\n",
        "For data point 1 with cluster label 1, number_labels[1] = reference_labels[1] = 8.\n",
        "\n",
        "For data point 2 with cluster label 1, number_labels[2] = reference_labels[1] = 8.\n",
        "\n",
        "For data point 3 with cluster label 0, number_labels[3] = reference_labels[0] = 3.\n",
        "\n",
        "For data point 4 with cluster label 2, number_labels[4] = reference_labels[2] = 5.\n",
        "\n",
        "The resulting number_labels array might look like [3, 8, 8, 3, 5]. These values are the inferred true labels based on the mapping provided by reference_labels and the cluster labels assigned by K-Means."
      ],
      "metadata": {
        "id": "ObdrxUbAt845"
      }
    },
    {
      "cell_type": "code",
      "source": [
        "from sklearn.metrics import accuracy_score\n",
        "\n",
        "kmeans = MiniBatchKMeans(n_clusters = 256)\n",
        "# Fitting the model to testing set\n",
        "kmeans.fit(X_test)\n",
        "reference_labels = retrieve_info(kmeans.labels_,y_test)\n",
        "# ‘number_labels’ is a list which denotes the number displayed in image\n",
        "number_labels = np.random.rand(len(kmeans.labels_))\n",
        "for i in range(len(kmeans.labels_)):\n",
        "\n",
        " number_labels[i] = reference_labels[kmeans.labels_[i]]\n",
        "\n",
        "print('Accuracy score : {}'.format(accuracy_score(number_labels,y_test)))\n",
        "print('\\n')"
      ],
      "metadata": {
        "colab": {
          "base_uri": "https://localhost:8080/"
        },
        "id": "P50svvzVjXDM",
        "outputId": "d2897f21-e393-4dec-c43b-f6779f7ce07f"
      },
      "execution_count": 21,
      "outputs": [
        {
          "output_type": "stream",
          "name": "stderr",
          "text": [
            "/usr/local/lib/python3.10/dist-packages/sklearn/cluster/_kmeans.py:870: FutureWarning: The default value of `n_init` will change from 3 to 'auto' in 1.4. Set the value of `n_init` explicitly to suppress the warning\n",
            "  warnings.warn(\n"
          ]
        },
        {
          "output_type": "stream",
          "name": "stdout",
          "text": [
            "Accuracy score : 0.9018\n",
            "\n",
            "\n"
          ]
        }
      ]
    },
    {
      "cell_type": "code",
      "source": [],
      "metadata": {
        "id": "jDrAlinjlNCX"
      },
      "execution_count": null,
      "outputs": []
    }
  ]
}